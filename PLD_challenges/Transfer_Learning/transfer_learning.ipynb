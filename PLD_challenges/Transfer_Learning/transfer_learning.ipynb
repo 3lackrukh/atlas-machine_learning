{
 "cells": [
  {
   "cell_type": "code",
   "execution_count": 15,
   "id": "ca9f28e2",
   "metadata": {},
   "outputs": [],
   "source": [
    "import tensorflow as tf\n",
    "from tensorflow import keras\n",
    "from keras.models import Sequential\n",
    "from keras.layers import Dense, GlobalAveragePooling2D\n",
    "from keras.applications import VGG16\n",
    "from keras.preprocessing.image import ImageDataGenerator\n",
    "import matplotlib.pyplot as plt\n",
    "import numpy as np"
   ]
  },
  {
   "cell_type": "code",
   "execution_count": 16,
   "id": "e9863df0",
   "metadata": {},
   "outputs": [],
   "source": [
    "# Load the VGG16 model without the top (fully connected) layer\n",
    "base_model = VGG16(weights='imagenet', include_top=False, input_shape=(224, 224, 3))"
   ]
  },
  {
   "cell_type": "code",
   "execution_count": 17,
   "id": "70d5435a",
   "metadata": {},
   "outputs": [],
   "source": [
    "# Freeze the layers of VGG16 to retain learned features\n",
    "for layer in base_model.layers:\n",
    "    layer.trainable = False"
   ]
  },
  {
   "cell_type": "code",
   "execution_count": 18,
   "id": "11d31045",
   "metadata": {},
   "outputs": [],
   "source": [
    "# Build a new model with custom layers on top of VGG16\n",
    "model = Sequential([\n",
    "    base_model,\n",
    "    GlobalAveragePooling2D(),\n",
    "    Dense(1024, activation='relu'),\n",
    "    Dense(512, activation='relu'),\n",
    "    Dense(1, activation='sigmoid')  # Use sigmoid for binary classification\n",
    "])"
   ]
  },
  {
   "cell_type": "code",
   "execution_count": 19,
   "id": "f7d8e3d0",
   "metadata": {},
   "outputs": [],
   "source": [
    "# Compile the model\n",
    "model.compile(optimizer='adam', loss='binary_crossentropy', metrics=['accuracy'])"
   ]
  },
  {
   "cell_type": "code",
   "execution_count": 20,
   "id": "74f4eba5",
   "metadata": {},
   "outputs": [],
   "source": [
    "from keras.preprocessing.image import ImageDataGenerator\n",
    "train_datagen = ImageDataGenerator(\n",
    "    rescale=1./255,\n",
    "    rotation_range=20,\n",
    "    width_shift_range=0.2,\n",
    "    height_shift_range=0.2,\n",
    "    shear_range=0.2,\n",
    "    zoom_range=0.2,\n",
    "    horizontal_flip=True,\n",
    "    # Added brightnes variation\n",
    "    brightness_range=[0.5,1.5]\n",
    ")"
   ]
  },
  {
   "cell_type": "code",
   "execution_count": 21,
   "id": "b232972f",
   "metadata": {},
   "outputs": [],
   "source": [
    "val_datagen = ImageDataGenerator(rescale=1./255)"
   ]
  },
  {
   "cell_type": "code",
   "execution_count": 22,
   "id": "fb7d84c8",
   "metadata": {},
   "outputs": [
    {
     "name": "stdout",
     "output_type": "stream",
     "text": [
      "Found 30 images belonging to 2 classes.\n"
     ]
    }
   ],
   "source": [
    "# Load train and validation data\n",
    "train_generator = train_datagen.flow_from_directory(\n",
    "    'dataset/train',\n",
    "    target_size=(224, 224),\n",
    "    batch_size=5,\n",
    "    class_mode='binary'\n",
    ")"
   ]
  },
  {
   "cell_type": "code",
   "execution_count": 23,
   "id": "98721aa4",
   "metadata": {},
   "outputs": [
    {
     "name": "stdout",
     "output_type": "stream",
     "text": [
      "Found 10 images belonging to 2 classes.\n"
     ]
    },
    {
     "name": "stdout",
     "output_type": "stream",
     "text": [
      "Number of training samples: 30\n",
      "Batch size: 5\n",
      "Steps would be: 6\n",
      "Epoch 1/10\n",
      "6/6 [==============================] - 13s 2s/step - loss: 1.1529 - accuracy: 0.3667 - val_loss: 0.6897 - val_accuracy: 0.5000\n",
      "Epoch 2/10\n",
      "6/6 [==============================] - 10s 2s/step - loss: 0.7261 - accuracy: 0.6000 - val_loss: 0.6649 - val_accuracy: 0.5000\n",
      "Epoch 3/10\n",
      "6/6 [==============================] - 10s 2s/step - loss: 0.6041 - accuracy: 0.7000 - val_loss: 0.5776 - val_accuracy: 0.5000\n",
      "Epoch 4/10\n",
      "6/6 [==============================] - 10s 2s/step - loss: 0.5950 - accuracy: 0.7333 - val_loss: 0.4632 - val_accuracy: 1.0000\n",
      "Epoch 5/10\n",
      "6/6 [==============================] - 11s 2s/step - loss: 0.4786 - accuracy: 0.9000 - val_loss: 0.3812 - val_accuracy: 0.9000\n",
      "Epoch 6/10\n",
      "6/6 [==============================] - 10s 2s/step - loss: 0.5039 - accuracy: 0.7333 - val_loss: 0.2522 - val_accuracy: 1.0000\n",
      "Epoch 7/10\n",
      "6/6 [==============================] - 10s 2s/step - loss: 0.5017 - accuracy: 0.8000 - val_loss: 0.2392 - val_accuracy: 0.9000\n",
      "Epoch 8/10\n",
      "6/6 [==============================] - 11s 2s/step - loss: 0.3857 - accuracy: 0.8667 - val_loss: 0.1459 - val_accuracy: 1.0000\n",
      "Epoch 9/10\n",
      "6/6 [==============================] - 10s 2s/step - loss: 0.3048 - accuracy: 0.9333 - val_loss: 0.1780 - val_accuracy: 0.9000\n",
      "Epoch 10/10\n",
      "6/6 [==============================] - 10s 2s/step - loss: 0.2013 - accuracy: 0.9667 - val_loss: 0.0796 - val_accuracy: 1.0000\n"
     ]
    }
   ],
   "source": [
    "validation_generator = val_datagen.flow_from_directory(\n",
    "    'dataset/validation',\n",
    "    target_size=(224, 224),\n",
    "    batch_size=5,\n",
    "    class_mode='binary'\n",
    ")\n",
    "\n",
    "print(f\"Number of training samples: {train_generator.samples}\")\n",
    "print(f\"Batch size: {train_generator.batch_size}\")\n",
    "print(f\"Steps would be: {train_generator.samples // train_generator.batch_size}\")\n",
    "\n",
    "history = model.fit(\n",
    "    train_generator,\n",
    "    steps_per_epoch=train_generator.samples // train_generator.batch_size,\n",
    "    validation_data=validation_generator,\n",
    "    validation_steps=validation_generator.samples // validation_generator.batch_size,\n",
    "    epochs=10\n",
    ")"
   ]
  },
  {
   "cell_type": "code",
   "execution_count": 24,
   "id": "5f46672b",
   "metadata": {},
   "outputs": [],
   "source": [
    "# Unfreeze the last few layers of the VGG16 model\n",
    "for layer in base_model.layers[-4:]:\n",
    "    layer.trainable = True"
   ]
  },
  {
   "cell_type": "code",
   "execution_count": 25,
   "id": "3136dc5c",
   "metadata": {},
   "outputs": [],
   "source": [
    "# Re-compile the model with a lower learning rate for fine-tuning\n",
    "model.compile(optimizer=tf.keras.optimizers.Adam(1e-5), loss='binary_crossentropy', metrics=['accuracy'])"
   ]
  },
  {
   "cell_type": "code",
   "execution_count": 26,
   "id": "027270ef",
   "metadata": {},
   "outputs": [
    {
     "name": "stdout",
     "output_type": "stream",
     "text": [
      "Epoch 1/5\n",
      "6/6 [==============================] - 17s 2s/step - loss: 0.1741 - accuracy: 0.9667 - val_loss: 0.0943 - val_accuracy: 1.0000\n",
      "Epoch 2/5\n",
      "6/6 [==============================] - 12s 2s/step - loss: 0.1780 - accuracy: 0.9000 - val_loss: 0.1030 - val_accuracy: 1.0000\n",
      "Epoch 3/5\n",
      "6/6 [==============================] - 12s 2s/step - loss: 0.1162 - accuracy: 0.9667 - val_loss: 0.0381 - val_accuracy: 1.0000\n",
      "Epoch 4/5\n",
      "6/6 [==============================] - 12s 2s/step - loss: 0.1168 - accuracy: 0.9667 - val_loss: 0.0412 - val_accuracy: 1.0000\n",
      "Epoch 5/5\n",
      "6/6 [==============================] - 13s 2s/step - loss: 0.0707 - accuracy: 1.0000 - val_loss: 0.0559 - val_accuracy: 1.0000\n"
     ]
    }
   ],
   "source": [
    "# Continue training (fine-tuning)\n",
    "history_fine_tune = model.fit(\n",
    "    train_generator,\n",
    "    steps_per_epoch=train_generator.samples // train_generator.batch_size,\n",
    "    validation_data=validation_generator,\n",
    "    validation_steps=validation_generator.samples // validation_generator.batch_size,\n",
    "    epochs=5\n",
    ")"
   ]
  },
  {
   "cell_type": "code",
   "execution_count": 27,
   "id": "ebb2a121",
   "metadata": {},
   "outputs": [
    {
     "name": "stdout",
     "output_type": "stream",
     "text": [
      "2/2 [==============================] - 3s 1s/step - loss: 0.0559 - accuracy: 1.0000\n",
      "Validation Accuracy: 100.00%\n"
     ]
    }
   ],
   "source": [
    "loss, accuracy = model.evaluate(validation_generator)\n",
    "print(f'Validation Accuracy: {accuracy * 100:.2f}%')"
   ]
  },
  {
   "cell_type": "code",
   "execution_count": 28,
   "id": "3951c78a",
   "metadata": {},
   "outputs": [
    {
     "data": {
      "image/png": "[encoded data removed]",
      "text/plain": [
       "<Figure size 640x480 with 1 Axes>"
      ]
     },
     "metadata": {},
     "output_type": "display_data"
    }
   ],
   "source": [
    "# Plot the training and validation accuracy over epochs\n",
    "plt.plot(history.history['accuracy'], label='Train Accuracy')\n",
    "plt.plot(history.history['val_accuracy'], label='Validation Accuracy')\n",
    "plt.title('Training and Validation Accuracy')\n",
    "plt.xlabel('Epochs')\n",
    "plt.ylabel('Accuracy')\n",
    "plt.legend()\n",
    "plt.show()"
   ]
  }
 ],
 "metadata": {
  "jupytext": {
   "cell_metadata_filter": "-all",
   "main_language": "python",
   "notebook_metadata_filter": "-all"
  },
  "kernelspec": {
   "display_name": "Python 3",
   "language": "python",
   "name": "python3"
  },
  "language_info": {
   "codemirror_mode": {
    "name": "ipython",
    "version": 3
   },
   "file_extension": ".py",
   "mimetype": "text/x-python",
   "name": "python",
   "nbconvert_exporter": "python",
   "pygments_lexer": "ipython3",
   "version": "3.9.20"
  }
 },
 "nbformat": 4,
 "nbformat_minor": 5
}
